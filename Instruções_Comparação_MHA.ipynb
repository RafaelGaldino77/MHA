{
  "nbformat": 4,
  "nbformat_minor": 0,
  "metadata": {
    "colab": {
      "name": "Instruções_Comparação_MHA.ipynb",
      "provenance": [],
      "collapsed_sections": [],
      "authorship_tag": "ABX9TyOjpk8OwLzP65TfweC8rmhQ"
    },
    "kernelspec": {
      "name": "python3",
      "display_name": "Python 3"
    },
    "language_info": {
      "name": "python"
    }
  },
  "cells": [
    {
      "cell_type": "markdown",
      "source": [
        "Centro Universitário FEI - Física II\n",
        "\n",
        "Criado por Rafael Galdino Dias em 19/01/2022\n",
        "\n",
        "Esse programa tem como principal objetivo auxiliar os alunos em seus estudos de\n",
        "Movimento Harmônico Amortecido através da comparação de duas oscilações sob o \n",
        "mesmo gráfico para que o aluno possa visualizar e analisar como os parâmetros\n",
        "estudados podem interferir e caracterizar o MHA nas mais diversas situações. \n",
        "\n",
        "Observação: para simular este programa, copie e cole todas as linhas de código\n",
        "no Google Colab, onde ele foi testado e desenvolvido pelo autor."
      ],
      "metadata": {
        "id": "8PBNZQqfQDaG"
      }
    },
    {
      "cell_type": "code",
      "source": [
        "import numpy as np\n",
        "from scipy.integrate import odeint\n",
        "import matplotlib.pyplot as plt\n",
        "\n",
        "print('           Entre com os dados da 1a simulação           ')\n",
        "print('--------------------------------------------------------')\n",
        "m1=float(input(\"Insira o valor da massa em kg:\"))\n",
        "b1=float(input(\"Insira o valor da constante de amortecimento em kg/s:\"))\n",
        "k1=float(input(\"Insira o valor da constante elástica em N/m:\"))\n",
        "print('--------------------------------------------------------')\n",
        "print('           Entre com os dados da 2a simulação           ')\n",
        "print('--------------------------------------------------------')\n",
        "m2=float(input(\"Insira o valor da massa em kg:\"))\n",
        "b2=float(input(\"Insira o valor da constante de amortecimento em kg/s:\"))\n",
        "k2=float(input(\"Insira o valor da constante elástica em N/m:\"))\n",
        "print('--------------------------------------------------------')"
      ],
      "metadata": {
        "id": "A5-oN_0uQr1d"
      },
      "execution_count": null,
      "outputs": []
    },
    {
      "cell_type": "markdown",
      "source": [
        "Equação diferencial que calcula a posição no MHA. Os termos dx/dt na EDO foram\n",
        "substituidos por valores numéricos de um vetor para facilitar o cálculo dentro\n",
        "do programa. As equações que iremos utilizar para ambas as simulações são:"
      ],
      "metadata": {
        "id": "Px91EgLiQtkq"
      }
    },
    {
      "cell_type": "code",
      "source": [
        "def dx_dt1(x, t):\n",
        "    return [m1*x[1], -b1*x[1] - k1*x[0]]\n",
        "def dx_dt2(x, t):\n",
        "    return [m2*x[1], -b2*x[1] - k2*x[0]]"
      ],
      "metadata": {
        "id": "bbWwK2dMQ3n6"
      },
      "execution_count": null,
      "outputs": []
    },
    {
      "cell_type": "markdown",
      "source": [
        "Definição de um parâmetro de entrada para a posição inicial do MHA, cada valor\n",
        "corresponde à uma simulação diferente. "
      ],
      "metadata": {
        "id": "9HQfYzoLQ7VP"
      }
    },
    {
      "cell_type": "code",
      "source": [
        "pos1=float(input(\"Insira a posição inicial p/ a 1a simulação em m:\"))\n",
        "pos2=float(input(\"Insira a posição inicial p/ a 2a simulação em m:\"))"
      ],
      "metadata": {
        "id": "abV9d7LOQ-mI"
      },
      "execution_count": null,
      "outputs": []
    },
    {
      "cell_type": "markdown",
      "source": [
        "Definindo o valor da posição inicial para a 1a simulação no gráfico através da \n",
        "aplicação de uma variável x0, onde o movimento deve começar em t=0s."
      ],
      "metadata": {
        "id": "oENdZv9nRDwB"
      }
    },
    {
      "cell_type": "code",
      "source": [
        "x0 = [pos1, 0]"
      ],
      "metadata": {
        "id": "hWkrYCnNRH9w"
      },
      "execution_count": null,
      "outputs": []
    },
    {
      "cell_type": "markdown",
      "source": [
        "Aqui você pode definir a escala do eixo horizontal do gráfico. Dentro dos \n",
        "parentêses o primeiro valor é o início da sua escala e o segundo valor é o fim\n",
        "dela. O terceiro valor é o número de pontos usados para plotar a função."
      ],
      "metadata": {
        "id": "0Zq6BuHKRKc1"
      }
    },
    {
      "cell_type": "code",
      "source": [
        "ts = np.linspace(0, 20, 200)"
      ],
      "metadata": {
        "id": "V0wAoTYvRNt4"
      },
      "execution_count": null,
      "outputs": []
    },
    {
      "cell_type": "markdown",
      "source": [
        "Chamada do comando odeint para calcular a solução da EDO. Dentro dos parênteses\n",
        "temos a função principal e as variáveis que forma substituidas pelo vetor que \n",
        "representam o termo dx/dt da equação original. "
      ],
      "metadata": {
        "id": "f24nATWuRQSC"
      }
    },
    {
      "cell_type": "code",
      "source": [
        "xs = odeint(dx_dt1, x0, ts)"
      ],
      "metadata": {
        "id": "gvfTDAg-RTfX"
      },
      "execution_count": null,
      "outputs": []
    },
    {
      "cell_type": "markdown",
      "source": [
        "Definição da escala vertical do gráfico para a 1a simulação com ínicio em x=0, \n",
        "visto que o eixo y é dependente do valor da posição já definido anteriormente."
      ],
      "metadata": {
        "id": "q8C8EG-PRWNo"
      }
    },
    {
      "cell_type": "code",
      "source": [
        "ys = xs[:,0]"
      ],
      "metadata": {
        "id": "JQgVJa5vRm6k"
      },
      "execution_count": null,
      "outputs": []
    },
    {
      "cell_type": "markdown",
      "source": [
        "Definindo o valor da posição inicial para a 2a simulação no gráfico através da \n",
        "aplicação de uma variável x0, onde o movimento deve começar em t=0s."
      ],
      "metadata": {
        "id": "9rhRz232RqAv"
      }
    },
    {
      "cell_type": "code",
      "source": [
        "x1 = [pos2, 0]"
      ],
      "metadata": {
        "id": "caueruGhRvGp"
      },
      "execution_count": null,
      "outputs": []
    },
    {
      "cell_type": "markdown",
      "source": [
        "Aqui você pode definir a escala do eixo horizontal do gráfico. Dentro dos \n",
        "parentêses o primeiro valor é o início da sua escala e o segundo valor é o fim\n",
        "dela. O terceiro valor é o número de pontos usados para plotar a função."
      ],
      "metadata": {
        "id": "Mm2t_IS2Rzek"
      }
    },
    {
      "cell_type": "code",
      "source": [
        "ts1 = np.linspace(0, 20, 200)"
      ],
      "metadata": {
        "id": "Gs6rudGPR4iI"
      },
      "execution_count": null,
      "outputs": []
    },
    {
      "cell_type": "markdown",
      "source": [
        "Chamada do comando odeint para calcular a solução da EDO. Dentro dos parênteses\n",
        "temos a função principal e as variáveis que forma substituidas pelo vetor que \n",
        "representam o termo dx/dt da equação original. "
      ],
      "metadata": {
        "id": "VnghoFNqR6bE"
      }
    },
    {
      "cell_type": "code",
      "source": [
        "xs1 = odeint(dx_dt2, x1, ts1)"
      ],
      "metadata": {
        "id": "yOTZrhyFR_4K"
      },
      "execution_count": null,
      "outputs": []
    },
    {
      "cell_type": "markdown",
      "source": [
        "Definição da escala vertical do gráfico para a 2a simulação com ínicio em x=0, \n",
        "visto que o eixo y é dependente do valor da posição já definido anteriormente."
      ],
      "metadata": {
        "id": "BYSCYU2ASCcy"
      }
    },
    {
      "cell_type": "code",
      "source": [
        "ys1 = xs1[:,0]"
      ],
      "metadata": {
        "id": "LgSRTg8hSGn1"
      },
      "execution_count": null,
      "outputs": []
    },
    {
      "cell_type": "markdown",
      "source": [
        "Aqui você pode alterar a resolução gráfica dos eixos para que fique mais fácil\n",
        "vizualizar os pontos de plotagem. Na primeira linha você define o espaçamento \n",
        "entre cada marcação principal do seu gráfico. Dentro dos parênteses o primeiro\n",
        "valor e o segundo valor é onde essa resolução começa e onde ela termina, não é \n",
        "preciso mudar estes valores pois esta faixa de tempo abrange todas as situações\n",
        "e o terceiro valor é a resolução da escala principal do eixo x do seu gráfico."
      ],
      "metadata": {
        "id": "e_kEfCCZSjjf"
      }
    },
    {
      "cell_type": "code",
      "source": [
        "fig = plt.figure()\n",
        "ax = fig.add_subplot(1, 1, 1)\n",
        "major_ticks_x = np.arange(0, 100, 2)"
      ],
      "metadata": {
        "id": "LUJjrfmsS1e1"
      },
      "execution_count": null,
      "outputs": []
    },
    {
      "cell_type": "markdown",
      "source": [
        "Na segunda linha é definido o espaçamento entre cada marcação secundária do seu\n",
        "gráfico. Dentro dos parênteses o primeiro e segundo valor seguem a mesma regra\n",
        "e o terceiro valor é a resolução da escala secundária do eixo x do seu gráfico."
      ],
      "metadata": {
        "id": "FJy1ZnVBS7TB"
      }
    },
    {
      "cell_type": "code",
      "source": [
        "minor_ticks_x = np.arange(0, 100, 1)"
      ],
      "metadata": {
        "id": "4FdqsWKrS_km"
      },
      "execution_count": null,
      "outputs": []
    },
    {
      "cell_type": "markdown",
      "source": [
        "Aplicando os valores de escala definidos pelo usuário com o comando set para as\n",
        "marcações definidas no primário e secundário do eixo x. "
      ],
      "metadata": {
        "id": "A66a1mByTJ8o"
      }
    },
    {
      "cell_type": "code",
      "source": [
        "ax.set_xticks(major_ticks_x)\n",
        "ax.set_xticks(minor_ticks_x, minor=True)\n",
        "ax.grid(which='both')"
      ],
      "metadata": {
        "id": "ORkUaFdlTNOk"
      },
      "execution_count": null,
      "outputs": []
    },
    {
      "cell_type": "markdown",
      "source": [
        "Aqui você pode alterar o nome do eixo horizontal do gráfico"
      ],
      "metadata": {
        "id": "myfo7NW_TRVT"
      }
    },
    {
      "cell_type": "code",
      "source": [
        "plt.xlabel(\"t(s)\")"
      ],
      "metadata": {
        "id": "1Gih_uaOTU9G"
      },
      "execution_count": null,
      "outputs": []
    },
    {
      "cell_type": "markdown",
      "source": [
        "Aqui você pode alterar o nome do eixo vertical do gráfico"
      ],
      "metadata": {
        "id": "02IRT_nVTYSY"
      }
    },
    {
      "cell_type": "code",
      "source": [
        "plt.ylabel(\"x(m)\")"
      ],
      "metadata": {
        "id": "p_hPbvFrTcMa"
      },
      "execution_count": null,
      "outputs": []
    },
    {
      "cell_type": "markdown",
      "source": [
        "Aqui você pode alterar o título do gráfico"
      ],
      "metadata": {
        "id": "x-WTyYDQTe9A"
      }
    },
    {
      "cell_type": "code",
      "source": [
        "plt.title(\"Movimento Harmônico Amortecido\")"
      ],
      "metadata": {
        "id": "UJ72fILcTjgF"
      },
      "execution_count": null,
      "outputs": []
    },
    {
      "cell_type": "markdown",
      "source": [
        "Aqui você pode desativar o grid do gráfico digitando False no lugar de True"
      ],
      "metadata": {
        "id": "wyIwe0nuT0Xn"
      }
    },
    {
      "cell_type": "code",
      "source": [
        "plt.grid(True)"
      ],
      "metadata": {
        "id": "zLB1RsEfT3TZ"
      },
      "execution_count": null,
      "outputs": []
    },
    {
      "cell_type": "markdown",
      "source": [
        "Aqui você pode definir os parâmetros de plotagem do gráfico e ajustar estilos \n",
        "de linha diferentes para a função. Dentro dos parentêses o primeiro valor é a \n",
        "definição do eixo x do gráfico e o segundo valor é o eixo y dele. O terceiro e \n",
        "o quarto valor são referentes à cor da linha e sua espessura, respectivamente.\n",
        "O quinto item diz respeito à aplicação da legenda do gráfico onde se encontram \n",
        "as informações da massa, constante elástica e ângulo de fase da 1a simulação."
      ],
      "metadata": {
        "id": "lo0dcEkdT5uK"
      }
    },
    {
      "cell_type": "code",
      "source": [
        "plt.plot(ts,ys,color='red',linewidth=1.5,label='m=%.1fkg, k=%.1fN/m, b=%.1fkg/s' %(m1,k1,b1));"
      ],
      "metadata": {
        "id": "AaRsCZt7T9iX"
      },
      "execution_count": null,
      "outputs": []
    },
    {
      "cell_type": "markdown",
      "source": [
        "Aqui você pode definir os parâmetros de plotagem do gráfico e ajustar estilos \n",
        "de linha diferentes para a função. Dentro dos parentêses o primeiro valor é a \n",
        "definição do eixo x do gráfico e o segundo valor é o eixo y dele. O terceiro e \n",
        "o quarto valor são referentes à cor da linha e sua espessura, respectivamente.\n",
        "O quinto item diz respeito à aplicação da legenda do gráfico onde se encontram \n",
        "as informações da massa, constante elástica e ângulo de fase da 2a simulação."
      ],
      "metadata": {
        "id": "1gShCFo4UD0Z"
      }
    },
    {
      "cell_type": "code",
      "source": [
        "plt.plot(ts1,ys1,color='blue',linewidth=1.5,label='m=%.1fkg, k=%.1fN/m, b=%.1fkg/s' %(m2,k2,b2));"
      ],
      "metadata": {
        "id": "Ou30XJXVUG0a"
      },
      "execution_count": null,
      "outputs": []
    },
    {
      "cell_type": "markdown",
      "source": [
        "Aqui você pode definir a visualização da legenda do gráfico e ajustá-la para a\n",
        "posição que você desejar. Para ver outras opções de posicionamento procure na \n",
        "internet por pyplot.legend"
      ],
      "metadata": {
        "id": "6MTWxyCoUI8f"
      }
    },
    {
      "cell_type": "code",
      "source": [
        "plt.legend(loc=4)"
      ],
      "metadata": {
        "id": "bRtAQMO3UMkQ"
      },
      "execution_count": null,
      "outputs": []
    },
    {
      "cell_type": "markdown",
      "source": [
        "Habilitação da visualização do gráfico"
      ],
      "metadata": {
        "id": "3C86i-tfUPvF"
      }
    },
    {
      "cell_type": "code",
      "execution_count": 3,
      "metadata": {
        "id": "1Iw_gzKyXnqf"
      },
      "outputs": [],
      "source": [
        "plt.show()"
      ]
    }
  ]
}